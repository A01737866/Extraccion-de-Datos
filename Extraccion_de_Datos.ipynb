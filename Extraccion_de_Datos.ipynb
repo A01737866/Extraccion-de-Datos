{
  "nbformat": 4,
  "nbformat_minor": 0,
  "metadata": {
    "colab": {
      "provenance": [],
      "authorship_tag": "ABX9TyPrx8JkvEeQL+2yfTm5fKXm",
      "include_colab_link": true
    },
    "kernelspec": {
      "name": "python3",
      "display_name": "Python 3"
    },
    "language_info": {
      "name": "python"
    }
  },
  "cells": [
    {
      "cell_type": "markdown",
      "metadata": {
        "id": "view-in-github",
        "colab_type": "text"
      },
      "source": [
        "<a href=\"https://colab.research.google.com/github/A01737866/Extraccion-de-Datos/blob/main/Extraccion_de_Datos.ipynb\" target=\"_parent\"><img src=\"https://colab.research.google.com/assets/colab-badge.svg\" alt=\"Open In Colab\"/></a>"
      ]
    },
    {
      "cell_type": "code",
      "execution_count": 1,
      "metadata": {
        "id": "o94my4X-Q3uB"
      },
      "outputs": [],
      "source": [
        "#Importamos librerías requeridas\n",
        "import pandas as pd\n",
        "import numpy as np\n",
        "import matplotlib.pyplot as plt\n",
        "import seaborn as sns"
      ]
    },
    {
      "cell_type": "code",
      "source": [
        "#Cargar archivo csv desde equipo\n",
        "from google.colab import files\n",
        "files.upload()"
      ],
      "metadata": {
        "id": "wiEuBYdtRCxe"
      },
      "execution_count": null,
      "outputs": []
    },
    {
      "cell_type": "code",
      "source": [
        "#Convertir en dataframe\n",
        "df = pd.read_csv(\"CountryTable.csv\")\n",
        "#df"
      ],
      "metadata": {
        "id": "iGS8tCUsRKVC"
      },
      "execution_count": 3,
      "outputs": []
    },
    {
      "cell_type": "code",
      "source": [
        "#Imprimimos las primeras filas o registros del Dataframe\n",
        "df.head(5)"
      ],
      "metadata": {
        "id": "fIpreSVORyS0"
      },
      "execution_count": null,
      "outputs": []
    },
    {
      "cell_type": "markdown",
      "source": [
        "**FILTROS BASICOS PARA VARIABLES CUALITATIVAS**\n"
      ],
      "metadata": {
        "id": "aRXRzhM7RqLu"
      }
    },
    {
      "cell_type": "markdown",
      "source": [
        "**FILTRO 1**"
      ],
      "metadata": {
        "id": "j_VNAnQjS0KG"
      }
    },
    {
      "cell_type": "code",
      "source": [
        "#Filtro por objeto\n",
        "filtro1 = df[df[\"continent\"] == \"Europe\"]\n",
        "filtro1"
      ],
      "metadata": {
        "id": "NBakSTUiRux1"
      },
      "execution_count": null,
      "outputs": []
    },
    {
      "cell_type": "code",
      "source": [
        "#Convertir archivo filtrado a CSV\n",
        "filtro1.to_csv(\"Filtro1.csv\")"
      ],
      "metadata": {
        "id": "R6SE1z79Sf1p"
      },
      "execution_count": 9,
      "outputs": []
    },
    {
      "cell_type": "code",
      "source": [
        "#Descargar archivo filtrado en csv\n",
        "from google.colab import files\n",
        "\n",
        "files.download(\"Filtro1.csv\")"
      ],
      "metadata": {
        "colab": {
          "base_uri": "https://localhost:8080/",
          "height": 17
        },
        "id": "tNWqqAkqSlY0",
        "outputId": "9ed84e99-0cea-47ef-fdc7-02665df16116"
      },
      "execution_count": 10,
      "outputs": [
        {
          "output_type": "display_data",
          "data": {
            "text/plain": [
              "<IPython.core.display.Javascript object>"
            ],
            "application/javascript": [
              "\n",
              "    async function download(id, filename, size) {\n",
              "      if (!google.colab.kernel.accessAllowed) {\n",
              "        return;\n",
              "      }\n",
              "      const div = document.createElement('div');\n",
              "      const label = document.createElement('label');\n",
              "      label.textContent = `Downloading \"${filename}\": `;\n",
              "      div.appendChild(label);\n",
              "      const progress = document.createElement('progress');\n",
              "      progress.max = size;\n",
              "      div.appendChild(progress);\n",
              "      document.body.appendChild(div);\n",
              "\n",
              "      const buffers = [];\n",
              "      let downloaded = 0;\n",
              "\n",
              "      const channel = await google.colab.kernel.comms.open(id);\n",
              "      // Send a message to notify the kernel that we're ready.\n",
              "      channel.send({})\n",
              "\n",
              "      for await (const message of channel.messages) {\n",
              "        // Send a message to notify the kernel that we're ready.\n",
              "        channel.send({})\n",
              "        if (message.buffers) {\n",
              "          for (const buffer of message.buffers) {\n",
              "            buffers.push(buffer);\n",
              "            downloaded += buffer.byteLength;\n",
              "            progress.value = downloaded;\n",
              "          }\n",
              "        }\n",
              "      }\n",
              "      const blob = new Blob(buffers, {type: 'application/binary'});\n",
              "      const a = document.createElement('a');\n",
              "      a.href = window.URL.createObjectURL(blob);\n",
              "      a.download = filename;\n",
              "      div.appendChild(a);\n",
              "      a.click();\n",
              "      div.remove();\n",
              "    }\n",
              "  "
            ]
          },
          "metadata": {}
        },
        {
          "output_type": "display_data",
          "data": {
            "text/plain": [
              "<IPython.core.display.Javascript object>"
            ],
            "application/javascript": [
              "download(\"download_f1138fc8-69fe-4676-b5e0-0799857fdc45\", \"Filtro1.csv\", 6237)"
            ]
          },
          "metadata": {}
        }
      ]
    },
    {
      "cell_type": "markdown",
      "source": [
        "En este caso se filtra la categoría de continente con los datos de Europa."
      ],
      "metadata": {
        "id": "SKqmQ1esSswq"
      }
    },
    {
      "cell_type": "markdown",
      "source": [
        "**FILTRO 2**"
      ],
      "metadata": {
        "id": "ckL96a3qTWyO"
      }
    },
    {
      "cell_type": "code",
      "source": [
        "#Filtro por filas\n",
        "#filtro2 = df.iloc[10:12,:]\n",
        "filtro2 = df.iloc[[10,28,31],:] #filas no consecutivas\n",
        "filtro2"
      ],
      "metadata": {
        "id": "rDK6E2QTTZe4"
      },
      "execution_count": null,
      "outputs": []
    },
    {
      "cell_type": "code",
      "source": [
        "#Convertir archivo filtrado a CSV\n",
        "filtro2.to_csv(\"Filtro2.csv\")"
      ],
      "metadata": {
        "id": "GQtLTqpfTLqq"
      },
      "execution_count": 22,
      "outputs": []
    },
    {
      "cell_type": "code",
      "source": [
        "#Descargar archivo filtrado en csv\n",
        "from google.colab import files\n",
        "\n",
        "files.download(\"Filtro2.csv\")"
      ],
      "metadata": {
        "colab": {
          "base_uri": "https://localhost:8080/",
          "height": 17
        },
        "id": "ro1I1uAoT14T",
        "outputId": "49410afc-f026-4f15-c5ad-c3c0ac72751d"
      },
      "execution_count": 14,
      "outputs": [
        {
          "output_type": "display_data",
          "data": {
            "text/plain": [
              "<IPython.core.display.Javascript object>"
            ],
            "application/javascript": [
              "\n",
              "    async function download(id, filename, size) {\n",
              "      if (!google.colab.kernel.accessAllowed) {\n",
              "        return;\n",
              "      }\n",
              "      const div = document.createElement('div');\n",
              "      const label = document.createElement('label');\n",
              "      label.textContent = `Downloading \"${filename}\": `;\n",
              "      div.appendChild(label);\n",
              "      const progress = document.createElement('progress');\n",
              "      progress.max = size;\n",
              "      div.appendChild(progress);\n",
              "      document.body.appendChild(div);\n",
              "\n",
              "      const buffers = [];\n",
              "      let downloaded = 0;\n",
              "\n",
              "      const channel = await google.colab.kernel.comms.open(id);\n",
              "      // Send a message to notify the kernel that we're ready.\n",
              "      channel.send({})\n",
              "\n",
              "      for await (const message of channel.messages) {\n",
              "        // Send a message to notify the kernel that we're ready.\n",
              "        channel.send({})\n",
              "        if (message.buffers) {\n",
              "          for (const buffer of message.buffers) {\n",
              "            buffers.push(buffer);\n",
              "            downloaded += buffer.byteLength;\n",
              "            progress.value = downloaded;\n",
              "          }\n",
              "        }\n",
              "      }\n",
              "      const blob = new Blob(buffers, {type: 'application/binary'});\n",
              "      const a = document.createElement('a');\n",
              "      a.href = window.URL.createObjectURL(blob);\n",
              "      a.download = filename;\n",
              "      div.appendChild(a);\n",
              "      a.click();\n",
              "      div.remove();\n",
              "    }\n",
              "  "
            ]
          },
          "metadata": {}
        },
        {
          "output_type": "display_data",
          "data": {
            "text/plain": [
              "<IPython.core.display.Javascript object>"
            ],
            "application/javascript": [
              "download(\"download_6b649c74-6099-4a00-8346-b11ef45c14c4\", \"Filtro2.csv\", 536)"
            ]
          },
          "metadata": {}
        }
      ]
    },
    {
      "cell_type": "markdown",
      "source": [
        "Se filtran las filas, ya sea de manera consecutiva o se seleccionan manualmente. Se seleccionaron todas las columnas haciendo uso de \" : \""
      ],
      "metadata": {
        "id": "zCSdT_rLT9Hk"
      }
    },
    {
      "cell_type": "markdown",
      "source": [
        "**FILTRO 3**"
      ],
      "metadata": {
        "id": "XuHgE8blUQ5-"
      }
    },
    {
      "cell_type": "code",
      "source": [
        "#Filtro por columnas\n",
        "#filtro3 = df.iloc[:,10:13]\n",
        "filtro3 = df.iloc[:,[3,6,14]] #columnas no consecutivas\n",
        "filtro3"
      ],
      "metadata": {
        "id": "DrWVe-GfUPHI"
      },
      "execution_count": null,
      "outputs": []
    },
    {
      "cell_type": "code",
      "source": [
        "#Convertir archivo filtrado a CSV\n",
        "filtro3.to_csv(\"Filtro3.csv\")"
      ],
      "metadata": {
        "id": "Mj9iBgQgspZ5"
      },
      "execution_count": 19,
      "outputs": []
    },
    {
      "cell_type": "code",
      "source": [
        "#Descargar archivo filtrado en csv\n",
        "from google.colab import files\n",
        "\n",
        "files.download(\"Filtro3.csv\")"
      ],
      "metadata": {
        "colab": {
          "base_uri": "https://localhost:8080/",
          "height": 17
        },
        "id": "BJ7gab6istsX",
        "outputId": "51ff9717-c08a-48b0-89b6-1d9cf4c7d7d6"
      },
      "execution_count": 20,
      "outputs": [
        {
          "output_type": "display_data",
          "data": {
            "text/plain": [
              "<IPython.core.display.Javascript object>"
            ],
            "application/javascript": [
              "\n",
              "    async function download(id, filename, size) {\n",
              "      if (!google.colab.kernel.accessAllowed) {\n",
              "        return;\n",
              "      }\n",
              "      const div = document.createElement('div');\n",
              "      const label = document.createElement('label');\n",
              "      label.textContent = `Downloading \"${filename}\": `;\n",
              "      div.appendChild(label);\n",
              "      const progress = document.createElement('progress');\n",
              "      progress.max = size;\n",
              "      div.appendChild(progress);\n",
              "      document.body.appendChild(div);\n",
              "\n",
              "      const buffers = [];\n",
              "      let downloaded = 0;\n",
              "\n",
              "      const channel = await google.colab.kernel.comms.open(id);\n",
              "      // Send a message to notify the kernel that we're ready.\n",
              "      channel.send({})\n",
              "\n",
              "      for await (const message of channel.messages) {\n",
              "        // Send a message to notify the kernel that we're ready.\n",
              "        channel.send({})\n",
              "        if (message.buffers) {\n",
              "          for (const buffer of message.buffers) {\n",
              "            buffers.push(buffer);\n",
              "            downloaded += buffer.byteLength;\n",
              "            progress.value = downloaded;\n",
              "          }\n",
              "        }\n",
              "      }\n",
              "      const blob = new Blob(buffers, {type: 'application/binary'});\n",
              "      const a = document.createElement('a');\n",
              "      a.href = window.URL.createObjectURL(blob);\n",
              "      a.download = filename;\n",
              "      div.appendChild(a);\n",
              "      a.click();\n",
              "      div.remove();\n",
              "    }\n",
              "  "
            ]
          },
          "metadata": {}
        },
        {
          "output_type": "display_data",
          "data": {
            "text/plain": [
              "<IPython.core.display.Javascript object>"
            ],
            "application/javascript": [
              "download(\"download_6c5f9bf0-07c8-4ef4-8dc7-9b1ef517711b\", \"Filtro3.csv\", 6938)"
            ]
          },
          "metadata": {}
        }
      ]
    },
    {
      "cell_type": "markdown",
      "source": [
        "Se filtran ahora las columnas pueden ser consecutivas o seleccionarse manualmente. Se seleccionan todas las filas haciendo uso de \" : \"."
      ],
      "metadata": {
        "id": "x0iAi8CEsx9E"
      }
    },
    {
      "cell_type": "markdown",
      "source": [
        "**FILTRO 4**"
      ],
      "metadata": {
        "id": "pASxp2NAs-9W"
      }
    },
    {
      "cell_type": "code",
      "source": [
        "df = pd.read_csv(\"CountryTable.csv\", index_col = 2)\n",
        "df"
      ],
      "metadata": {
        "id": "PuY_QltFs9Kx"
      },
      "execution_count": null,
      "outputs": []
    },
    {
      "cell_type": "code",
      "source": [
        "#Paso 2: Aplicamos Filtro de filas vs columnas\n",
        "filtro4 = df.loc[[\"Africa\",\"Asia\"], [\"name\", \"population\"]]\n",
        "filtro4"
      ],
      "metadata": {
        "id": "MjuxIHFethy0"
      },
      "execution_count": null,
      "outputs": []
    },
    {
      "cell_type": "code",
      "source": [
        "#Convertir archivo filtrado a CSV\n",
        "filtro4.to_csv(\"Filtro4.csv\")"
      ],
      "metadata": {
        "id": "NLbSaoYHuK_R"
      },
      "execution_count": 30,
      "outputs": []
    },
    {
      "cell_type": "code",
      "source": [
        "#Descargar archivo filtrado en csv\n",
        "from google.colab import files\n",
        "\n",
        "files.download(\"Filtro4.csv\")"
      ],
      "metadata": {
        "colab": {
          "base_uri": "https://localhost:8080/",
          "height": 17
        },
        "id": "IHGWm9OsuQr2",
        "outputId": "f669e97f-2b8e-415d-e4ea-c91af162b952"
      },
      "execution_count": 31,
      "outputs": [
        {
          "output_type": "display_data",
          "data": {
            "text/plain": [
              "<IPython.core.display.Javascript object>"
            ],
            "application/javascript": [
              "\n",
              "    async function download(id, filename, size) {\n",
              "      if (!google.colab.kernel.accessAllowed) {\n",
              "        return;\n",
              "      }\n",
              "      const div = document.createElement('div');\n",
              "      const label = document.createElement('label');\n",
              "      label.textContent = `Downloading \"${filename}\": `;\n",
              "      div.appendChild(label);\n",
              "      const progress = document.createElement('progress');\n",
              "      progress.max = size;\n",
              "      div.appendChild(progress);\n",
              "      document.body.appendChild(div);\n",
              "\n",
              "      const buffers = [];\n",
              "      let downloaded = 0;\n",
              "\n",
              "      const channel = await google.colab.kernel.comms.open(id);\n",
              "      // Send a message to notify the kernel that we're ready.\n",
              "      channel.send({})\n",
              "\n",
              "      for await (const message of channel.messages) {\n",
              "        // Send a message to notify the kernel that we're ready.\n",
              "        channel.send({})\n",
              "        if (message.buffers) {\n",
              "          for (const buffer of message.buffers) {\n",
              "            buffers.push(buffer);\n",
              "            downloaded += buffer.byteLength;\n",
              "            progress.value = downloaded;\n",
              "          }\n",
              "        }\n",
              "      }\n",
              "      const blob = new Blob(buffers, {type: 'application/binary'});\n",
              "      const a = document.createElement('a');\n",
              "      a.href = window.URL.createObjectURL(blob);\n",
              "      a.download = filename;\n",
              "      div.appendChild(a);\n",
              "      a.click();\n",
              "      div.remove();\n",
              "    }\n",
              "  "
            ]
          },
          "metadata": {}
        },
        {
          "output_type": "display_data",
          "data": {
            "text/plain": [
              "<IPython.core.display.Javascript object>"
            ],
            "application/javascript": [
              "download(\"download_d0c5bf08-c004-4442-9fe2-7e2a88a72379\", \"Filtro4.csv\", 2644)"
            ]
          },
          "metadata": {}
        }
      ]
    },
    {
      "cell_type": "markdown",
      "source": [
        "Se selecciona una columna para filtrar, en este caso se selecciona la columna de continente. Se usa Africa y Asia como filtro para observar el nombre del país y sus habitantes."
      ],
      "metadata": {
        "id": "HEMrkMnOuY-l"
      }
    },
    {
      "cell_type": "markdown",
      "source": [
        "**FILTRO 5**"
      ],
      "metadata": {
        "id": "ii41sUejunQF"
      }
    },
    {
      "cell_type": "code",
      "source": [
        "#Filtro por cabecera\n",
        "filtro5 = df.head(15)\n",
        "filtro5"
      ],
      "metadata": {
        "id": "liP7uk93up3k"
      },
      "execution_count": null,
      "outputs": []
    },
    {
      "cell_type": "code",
      "source": [
        "#Convertir archivo filtrado a CSV\n",
        "filtro5.to_csv(\"Filtro5.csv\")"
      ],
      "metadata": {
        "id": "4mY2xv6Su5XO"
      },
      "execution_count": 33,
      "outputs": []
    },
    {
      "cell_type": "code",
      "source": [
        "#Descargar archivo filtrado en csv\n",
        "from google.colab import files\n",
        "\n",
        "files.download(\"Filtro5.csv\")"
      ],
      "metadata": {
        "colab": {
          "base_uri": "https://localhost:8080/",
          "height": 17
        },
        "id": "7BWNLu6gu96X",
        "outputId": "36ee3e73-cfb6-492a-cff4-6a985350d317"
      },
      "execution_count": 34,
      "outputs": [
        {
          "output_type": "display_data",
          "data": {
            "text/plain": [
              "<IPython.core.display.Javascript object>"
            ],
            "application/javascript": [
              "\n",
              "    async function download(id, filename, size) {\n",
              "      if (!google.colab.kernel.accessAllowed) {\n",
              "        return;\n",
              "      }\n",
              "      const div = document.createElement('div');\n",
              "      const label = document.createElement('label');\n",
              "      label.textContent = `Downloading \"${filename}\": `;\n",
              "      div.appendChild(label);\n",
              "      const progress = document.createElement('progress');\n",
              "      progress.max = size;\n",
              "      div.appendChild(progress);\n",
              "      document.body.appendChild(div);\n",
              "\n",
              "      const buffers = [];\n",
              "      let downloaded = 0;\n",
              "\n",
              "      const channel = await google.colab.kernel.comms.open(id);\n",
              "      // Send a message to notify the kernel that we're ready.\n",
              "      channel.send({})\n",
              "\n",
              "      for await (const message of channel.messages) {\n",
              "        // Send a message to notify the kernel that we're ready.\n",
              "        channel.send({})\n",
              "        if (message.buffers) {\n",
              "          for (const buffer of message.buffers) {\n",
              "            buffers.push(buffer);\n",
              "            downloaded += buffer.byteLength;\n",
              "            progress.value = downloaded;\n",
              "          }\n",
              "        }\n",
              "      }\n",
              "      const blob = new Blob(buffers, {type: 'application/binary'});\n",
              "      const a = document.createElement('a');\n",
              "      a.href = window.URL.createObjectURL(blob);\n",
              "      a.download = filename;\n",
              "      div.appendChild(a);\n",
              "      a.click();\n",
              "      div.remove();\n",
              "    }\n",
              "  "
            ]
          },
          "metadata": {}
        },
        {
          "output_type": "display_data",
          "data": {
            "text/plain": [
              "<IPython.core.display.Javascript object>"
            ],
            "application/javascript": [
              "download(\"download_e43d94fa-fa8a-4087-8e98-7d4ca7f07e0c\", \"Filtro5.csv\", 2179)"
            ]
          },
          "metadata": {}
        }
      ]
    },
    {
      "cell_type": "markdown",
      "source": [
        "Se toman los primeros 15 datos del dataframe."
      ],
      "metadata": {
        "id": "kk429MuPvCLi"
      }
    },
    {
      "cell_type": "markdown",
      "source": [
        "**FILTROS BASICOS PARA VARIABLES CUANTITATIVAS**"
      ],
      "metadata": {
        "id": "aUAxC-l6wH2k"
      }
    },
    {
      "cell_type": "markdown",
      "source": [
        "**FILTRO 6**"
      ],
      "metadata": {
        "id": "E-7jmexAvJyQ"
      }
    },
    {
      "cell_type": "code",
      "source": [
        "#Filtro por comparación\n",
        "filtro6 = df[df[\"surface_area\"] > 1000]\n",
        "filtro6"
      ],
      "metadata": {
        "id": "6ylcr7p7vM2n"
      },
      "execution_count": null,
      "outputs": []
    },
    {
      "cell_type": "code",
      "source": [
        "#Convertir archivo filtrado a CSV\n",
        "filtro6.to_csv(\"Filtro6.csv\")"
      ],
      "metadata": {
        "id": "4f3DHFPQvmsi"
      },
      "execution_count": 38,
      "outputs": []
    },
    {
      "cell_type": "code",
      "source": [
        "#Descargar archivo filtrado en csv\n",
        "from google.colab import files\n",
        "\n",
        "files.download(\"Filtro6.csv\")"
      ],
      "metadata": {
        "colab": {
          "base_uri": "https://localhost:8080/",
          "height": 17
        },
        "id": "wXoFP_o9vpwH",
        "outputId": "541e22c0-eadf-4431-8e23-8c3da830a031"
      },
      "execution_count": 39,
      "outputs": [
        {
          "output_type": "display_data",
          "data": {
            "text/plain": [
              "<IPython.core.display.Javascript object>"
            ],
            "application/javascript": [
              "\n",
              "    async function download(id, filename, size) {\n",
              "      if (!google.colab.kernel.accessAllowed) {\n",
              "        return;\n",
              "      }\n",
              "      const div = document.createElement('div');\n",
              "      const label = document.createElement('label');\n",
              "      label.textContent = `Downloading \"${filename}\": `;\n",
              "      div.appendChild(label);\n",
              "      const progress = document.createElement('progress');\n",
              "      progress.max = size;\n",
              "      div.appendChild(progress);\n",
              "      document.body.appendChild(div);\n",
              "\n",
              "      const buffers = [];\n",
              "      let downloaded = 0;\n",
              "\n",
              "      const channel = await google.colab.kernel.comms.open(id);\n",
              "      // Send a message to notify the kernel that we're ready.\n",
              "      channel.send({})\n",
              "\n",
              "      for await (const message of channel.messages) {\n",
              "        // Send a message to notify the kernel that we're ready.\n",
              "        channel.send({})\n",
              "        if (message.buffers) {\n",
              "          for (const buffer of message.buffers) {\n",
              "            buffers.push(buffer);\n",
              "            downloaded += buffer.byteLength;\n",
              "            progress.value = downloaded;\n",
              "          }\n",
              "        }\n",
              "      }\n",
              "      const blob = new Blob(buffers, {type: 'application/binary'});\n",
              "      const a = document.createElement('a');\n",
              "      a.href = window.URL.createObjectURL(blob);\n",
              "      a.download = filename;\n",
              "      div.appendChild(a);\n",
              "      a.click();\n",
              "      div.remove();\n",
              "    }\n",
              "  "
            ]
          },
          "metadata": {}
        },
        {
          "output_type": "display_data",
          "data": {
            "text/plain": [
              "<IPython.core.display.Javascript object>"
            ],
            "application/javascript": [
              "download(\"download_209104f5-4359-447b-a054-eb0204eb4c43\", \"Filtro6.csv\", 24738)"
            ]
          },
          "metadata": {}
        }
      ]
    },
    {
      "cell_type": "markdown",
      "source": [
        "Se filtra con una condición, en este caso se muestran los datos de los territorios con un área superficial superior a 1000."
      ],
      "metadata": {
        "id": "7oJB9p97vvIW"
      }
    },
    {
      "cell_type": "markdown",
      "source": [
        "**FILTROS BASICOS CON CONECTORES LOGICOS**"
      ],
      "metadata": {
        "id": "pSef0bBXwP_b"
      }
    },
    {
      "cell_type": "markdown",
      "source": [
        "**FILTRO 7**"
      ],
      "metadata": {
        "id": "UPfgYIRSv8IL"
      }
    },
    {
      "cell_type": "code",
      "source": [
        "#Filtro Y\n",
        "filtro7 = df[(df[\"surface_area\"] > 1000) & (df[\"government_form\"] == \"Republic\")]\n",
        "filtro7"
      ],
      "metadata": {
        "id": "ilMMRWHAv_KO"
      },
      "execution_count": null,
      "outputs": []
    },
    {
      "cell_type": "code",
      "source": [
        "#Convertir archivo filtrado a CSV\n",
        "filtro7.to_csv(\"Filtro7.csv\")"
      ],
      "metadata": {
        "id": "efnVYfEDxTw8"
      },
      "execution_count": 47,
      "outputs": []
    },
    {
      "cell_type": "code",
      "source": [
        "#Descargar archivo filtrado en csv\n",
        "from google.colab import files\n",
        "\n",
        "files.download(\"Filtro7.csv\")"
      ],
      "metadata": {
        "colab": {
          "base_uri": "https://localhost:8080/",
          "height": 17
        },
        "id": "zoWwlkapxXAP",
        "outputId": "d49f9c2e-4220-45bc-dd42-6681af267217"
      },
      "execution_count": 48,
      "outputs": [
        {
          "output_type": "display_data",
          "data": {
            "text/plain": [
              "<IPython.core.display.Javascript object>"
            ],
            "application/javascript": [
              "\n",
              "    async function download(id, filename, size) {\n",
              "      if (!google.colab.kernel.accessAllowed) {\n",
              "        return;\n",
              "      }\n",
              "      const div = document.createElement('div');\n",
              "      const label = document.createElement('label');\n",
              "      label.textContent = `Downloading \"${filename}\": `;\n",
              "      div.appendChild(label);\n",
              "      const progress = document.createElement('progress');\n",
              "      progress.max = size;\n",
              "      div.appendChild(progress);\n",
              "      document.body.appendChild(div);\n",
              "\n",
              "      const buffers = [];\n",
              "      let downloaded = 0;\n",
              "\n",
              "      const channel = await google.colab.kernel.comms.open(id);\n",
              "      // Send a message to notify the kernel that we're ready.\n",
              "      channel.send({})\n",
              "\n",
              "      for await (const message of channel.messages) {\n",
              "        // Send a message to notify the kernel that we're ready.\n",
              "        channel.send({})\n",
              "        if (message.buffers) {\n",
              "          for (const buffer of message.buffers) {\n",
              "            buffers.push(buffer);\n",
              "            downloaded += buffer.byteLength;\n",
              "            progress.value = downloaded;\n",
              "          }\n",
              "        }\n",
              "      }\n",
              "      const blob = new Blob(buffers, {type: 'application/binary'});\n",
              "      const a = document.createElement('a');\n",
              "      a.href = window.URL.createObjectURL(blob);\n",
              "      a.download = filename;\n",
              "      div.appendChild(a);\n",
              "      a.click();\n",
              "      div.remove();\n",
              "    }\n",
              "  "
            ]
          },
          "metadata": {}
        },
        {
          "output_type": "display_data",
          "data": {
            "text/plain": [
              "<IPython.core.display.Javascript object>"
            ],
            "application/javascript": [
              "download(\"download_837f9814-883d-4ede-bb2d-48df6abade78\", \"Filtro7.csv\", 14315)"
            ]
          },
          "metadata": {}
        }
      ]
    },
    {
      "cell_type": "markdown",
      "source": [
        "Se filtra ahora con dos condiciones, en este caso se mantiene la condición anterior, además de añadir que la forma de gobierno debe ser una república."
      ],
      "metadata": {
        "id": "oNXOKmwHxbnj"
      }
    },
    {
      "cell_type": "markdown",
      "source": [
        "**FILTRO 8**"
      ],
      "metadata": {
        "id": "ktZgPTbaxnzP"
      }
    },
    {
      "cell_type": "code",
      "source": [
        "#Filtro O\n",
        "filtro8 = df[(df[\"surface_area\"] > 1000) | (df[\"region\"] == \"Caribbean\")]\n",
        "filtro8"
      ],
      "metadata": {
        "id": "roiP0h5qxs9M"
      },
      "execution_count": null,
      "outputs": []
    },
    {
      "cell_type": "code",
      "source": [
        "#Convertir archivo filtrado a CSV\n",
        "filtro8.to_csv(\"Filtro8.csv\")"
      ],
      "metadata": {
        "id": "FJKmAaXmydVU"
      },
      "execution_count": 55,
      "outputs": []
    },
    {
      "cell_type": "code",
      "source": [
        "#Descargar archivo filtrado en csv\n",
        "from google.colab import files\n",
        "\n",
        "files.download(\"Filtro8.csv\")"
      ],
      "metadata": {
        "colab": {
          "base_uri": "https://localhost:8080/",
          "height": 17
        },
        "id": "PSpuVqgKyhnf",
        "outputId": "cd76128d-4a7d-46ef-d4aa-737160aae802"
      },
      "execution_count": 56,
      "outputs": [
        {
          "output_type": "display_data",
          "data": {
            "text/plain": [
              "<IPython.core.display.Javascript object>"
            ],
            "application/javascript": [
              "\n",
              "    async function download(id, filename, size) {\n",
              "      if (!google.colab.kernel.accessAllowed) {\n",
              "        return;\n",
              "      }\n",
              "      const div = document.createElement('div');\n",
              "      const label = document.createElement('label');\n",
              "      label.textContent = `Downloading \"${filename}\": `;\n",
              "      div.appendChild(label);\n",
              "      const progress = document.createElement('progress');\n",
              "      progress.max = size;\n",
              "      div.appendChild(progress);\n",
              "      document.body.appendChild(div);\n",
              "\n",
              "      const buffers = [];\n",
              "      let downloaded = 0;\n",
              "\n",
              "      const channel = await google.colab.kernel.comms.open(id);\n",
              "      // Send a message to notify the kernel that we're ready.\n",
              "      channel.send({})\n",
              "\n",
              "      for await (const message of channel.messages) {\n",
              "        // Send a message to notify the kernel that we're ready.\n",
              "        channel.send({})\n",
              "        if (message.buffers) {\n",
              "          for (const buffer of message.buffers) {\n",
              "            buffers.push(buffer);\n",
              "            downloaded += buffer.byteLength;\n",
              "            progress.value = downloaded;\n",
              "          }\n",
              "        }\n",
              "      }\n",
              "      const blob = new Blob(buffers, {type: 'application/binary'});\n",
              "      const a = document.createElement('a');\n",
              "      a.href = window.URL.createObjectURL(blob);\n",
              "      a.download = filename;\n",
              "      div.appendChild(a);\n",
              "      a.click();\n",
              "      div.remove();\n",
              "    }\n",
              "  "
            ]
          },
          "metadata": {}
        },
        {
          "output_type": "display_data",
          "data": {
            "text/plain": [
              "<IPython.core.display.Javascript object>"
            ],
            "application/javascript": [
              "download(\"download_2e61effb-6be5-4a4c-b89e-a55021252e7a\", \"Filtro8.csv\", 26869)"
            ]
          },
          "metadata": {}
        }
      ]
    },
    {
      "cell_type": "markdown",
      "source": [
        "Igualmente se tienen dos condiciones en el filtro aunque ahora el hecho de cumplir una permite que se añada la información a la lista filtrada, es decir, en caso de que el área superficial no exceda de los 1000 podría estar la información en la base de datos siempre y cuando la región sea el caribe."
      ],
      "metadata": {
        "id": "dKwfVq7Uyki6"
      }
    },
    {
      "cell_type": "markdown",
      "source": [
        "**FILTRO 9**"
      ],
      "metadata": {
        "id": "gkn9Pzmiy3Yy"
      }
    },
    {
      "cell_type": "code",
      "source": [
        "#Filtro not\n",
        "filtro9 = df[~(df[\"surface_area\"] >= 1000) & ~(df[\"region\"] == \"Caribbean\")]\n",
        "filtro9"
      ],
      "metadata": {
        "id": "8-ZMTr8Ty5pA"
      },
      "execution_count": null,
      "outputs": []
    },
    {
      "cell_type": "code",
      "source": [
        "#Convertir archivo filtrado a CSV\n",
        "filtro9.to_csv(\"Filtro9.csv\")"
      ],
      "metadata": {
        "id": "4hXEFPjuzNFi"
      },
      "execution_count": 59,
      "outputs": []
    },
    {
      "cell_type": "code",
      "source": [
        "#Descargar archivo filtrado en csv\n",
        "from google.colab import files\n",
        "\n",
        "files.download(\"Filtro9.csv\")"
      ],
      "metadata": {
        "colab": {
          "base_uri": "https://localhost:8080/",
          "height": 17
        },
        "id": "eM8UTLqYzPWE",
        "outputId": "29c87b86-119c-469e-a533-9edc4fe07150"
      },
      "execution_count": 60,
      "outputs": [
        {
          "output_type": "display_data",
          "data": {
            "text/plain": [
              "<IPython.core.display.Javascript object>"
            ],
            "application/javascript": [
              "\n",
              "    async function download(id, filename, size) {\n",
              "      if (!google.colab.kernel.accessAllowed) {\n",
              "        return;\n",
              "      }\n",
              "      const div = document.createElement('div');\n",
              "      const label = document.createElement('label');\n",
              "      label.textContent = `Downloading \"${filename}\": `;\n",
              "      div.appendChild(label);\n",
              "      const progress = document.createElement('progress');\n",
              "      progress.max = size;\n",
              "      div.appendChild(progress);\n",
              "      document.body.appendChild(div);\n",
              "\n",
              "      const buffers = [];\n",
              "      let downloaded = 0;\n",
              "\n",
              "      const channel = await google.colab.kernel.comms.open(id);\n",
              "      // Send a message to notify the kernel that we're ready.\n",
              "      channel.send({})\n",
              "\n",
              "      for await (const message of channel.messages) {\n",
              "        // Send a message to notify the kernel that we're ready.\n",
              "        channel.send({})\n",
              "        if (message.buffers) {\n",
              "          for (const buffer of message.buffers) {\n",
              "            buffers.push(buffer);\n",
              "            downloaded += buffer.byteLength;\n",
              "            progress.value = downloaded;\n",
              "          }\n",
              "        }\n",
              "      }\n",
              "      const blob = new Blob(buffers, {type: 'application/binary'});\n",
              "      const a = document.createElement('a');\n",
              "      a.href = window.URL.createObjectURL(blob);\n",
              "      a.download = filename;\n",
              "      div.appendChild(a);\n",
              "      a.click();\n",
              "      div.remove();\n",
              "    }\n",
              "  "
            ]
          },
          "metadata": {}
        },
        {
          "output_type": "display_data",
          "data": {
            "text/plain": [
              "<IPython.core.display.Javascript object>"
            ],
            "application/javascript": [
              "download(\"download_b0b49046-e8e2-4c18-b692-93c70d35e829\", \"Filtro9.csv\", 5148)"
            ]
          },
          "metadata": {}
        }
      ]
    },
    {
      "cell_type": "markdown",
      "source": [
        "En este caso hay dos condiciones que no se deben de cumplir para estar en la información filtrada, se hace uso de guion curveado. No se quiere que haya áreas superiores a 1000 ni que la region sea el caribe."
      ],
      "metadata": {
        "id": "nlEvLfEGzaP_"
      }
    }
  ]
}